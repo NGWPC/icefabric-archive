{
 "cells": [
  {
   "cell_type": "markdown",
   "id": "0",
   "metadata": {},
   "source": [
    "# Demo: Generation & extraction of the IPEs for the NWM Modules\n",
    "\n",
    "Generate & extract relevant IPEs for the NWM modules.\n",
    "\n",
    "__Pre-requisites:__\n",
    "\n",
    "- `.env` with your AWS credentials"
   ]
  },
  {
   "cell_type": "markdown",
   "id": "1",
   "metadata": {},
   "source": [
    "## Modules/Libraries"
   ]
  },
  {
   "cell_type": "code",
   "execution_count": null,
   "id": "2",
   "metadata": {},
   "outputs": [],
   "source": [
    "from pyiceberg.catalog import load_catalog\n",
    "\n",
    "from icefabric.modules import (\n",
    "    get_lasam_parameters,\n",
    "    get_lstm_parameters,\n",
    "    get_noahowp_parameters,\n",
    "    get_sacsma_parameters,\n",
    "    get_smp_parameters,\n",
    "    get_snow17_parameters,\n",
    "    get_topmodel_parameters,\n",
    "    get_troute_parameters,\n",
    ")\n",
    "from icefabric.schemas.hydrofabric import HydrofabricDomains"
   ]
  },
  {
   "cell_type": "markdown",
   "id": "3",
   "metadata": {},
   "source": [
    "## User Arguments"
   ]
  },
  {
   "cell_type": "code",
   "execution_count": null,
   "id": "4",
   "metadata": {},
   "outputs": [],
   "source": [
    "catalog = load_catalog(\"glue\", **{\"type\": \"glue\", \"glue.region\": \"us-east-1\"})\n",
    "domain = HydrofabricDomains.CONUS\n",
    "# identifier = '06710385'\n",
    "identifier = \"11280000\""
   ]
  },
  {
   "cell_type": "markdown",
   "id": "5",
   "metadata": {},
   "source": [
    "## TopModel"
   ]
  },
  {
   "cell_type": "code",
   "execution_count": null,
   "id": "6",
   "metadata": {},
   "outputs": [],
   "source": [
    "topmodel_pydantic_models = get_topmodel_parameters(catalog, domain, identifier)\n",
    "topmodel_pydantic_models"
   ]
  },
  {
   "cell_type": "markdown",
   "id": "7",
   "metadata": {},
   "source": [
    "## OWP NOAH MODULAR"
   ]
  },
  {
   "cell_type": "code",
   "execution_count": null,
   "id": "8",
   "metadata": {},
   "outputs": [],
   "source": [
    "noahowp_pydantic_models = get_noahowp_parameters(catalog, domain, identifier)\n",
    "noahowp_pydantic_models"
   ]
  },
  {
   "cell_type": "markdown",
   "id": "9",
   "metadata": {},
   "source": [
    "## LASAM"
   ]
  },
  {
   "cell_type": "code",
   "execution_count": null,
   "id": "10",
   "metadata": {},
   "outputs": [],
   "source": [
    "lasam_pydantic_models = get_lasam_parameters(\n",
    "    catalog, domain, identifier, sft_included=True, soil_params_file=\"vG_default_params_HYDRUS.dat\"\n",
    ")\n",
    "lasam_pydantic_models"
   ]
  },
  {
   "cell_type": "code",
   "execution_count": null,
   "id": "11",
   "metadata": {},
   "outputs": [],
   "source": [
    "lasam_pydantic_models = get_lasam_parameters(\n",
    "    catalog, domain, identifier, sft_included=False, soil_params_file=\"vG_default_params_HYDRUS.dat\"\n",
    ")\n",
    "lasam_pydantic_models"
   ]
  },
  {
   "cell_type": "markdown",
   "id": "12",
   "metadata": {},
   "source": [
    "## LSTM"
   ]
  },
  {
   "cell_type": "code",
   "execution_count": null,
   "id": "13",
   "metadata": {},
   "outputs": [],
   "source": [
    "lstm_pydantic_models = get_lstm_parameters(catalog, domain, identifier)\n",
    "lstm_pydantic_models"
   ]
  },
  {
   "cell_type": "markdown",
   "id": "14",
   "metadata": {},
   "source": [
    "## SMP"
   ]
  },
  {
   "cell_type": "code",
   "execution_count": null,
   "id": "15",
   "metadata": {},
   "outputs": [],
   "source": [
    "module = \"CFE-S\"  # , 'CFE-X', 'LASAM', 'TopModel'\n",
    "smp_pydantic_models = get_smp_parameters(catalog, domain, identifier, module)\n",
    "smp_pydantic_models"
   ]
  },
  {
   "cell_type": "markdown",
   "id": "16",
   "metadata": {},
   "source": [
    "## Snow17"
   ]
  },
  {
   "cell_type": "code",
   "execution_count": null,
   "id": "17",
   "metadata": {},
   "outputs": [],
   "source": [
    "snow17_pydantic_models = get_snow17_parameters(catalog, domain, identifier, conus_only=True, envca=False)\n",
    "\n",
    "snow17_pydantic_models"
   ]
  },
  {
   "cell_type": "code",
   "execution_count": null,
   "id": "18",
   "metadata": {},
   "outputs": [],
   "source": [
    "snow17_pydantic_models = get_snow17_parameters(catalog, domain, identifier, conus_only=False, envca=True)\n",
    "snow17_pydantic_models"
   ]
  },
  {
   "cell_type": "markdown",
   "id": "19",
   "metadata": {},
   "source": [
    "## SAC SMA"
   ]
  },
  {
   "cell_type": "code",
   "execution_count": null,
   "id": "20",
   "metadata": {},
   "outputs": [],
   "source": [
    "sacsma_pydantic_models = get_sacsma_parameters(catalog, domain, identifier, conus_only=True, envca=False)\n",
    "sacsma_pydantic_models"
   ]
  },
  {
   "cell_type": "code",
   "execution_count": null,
   "id": "21",
   "metadata": {},
   "outputs": [],
   "source": [
    "sacsma_pydantic_models = get_sacsma_parameters(catalog, domain, identifier, conus_only=False, envca=True)\n",
    "sacsma_pydantic_models"
   ]
  },
  {
   "cell_type": "markdown",
   "id": "22",
   "metadata": {},
   "source": [
    "## T-Route"
   ]
  },
  {
   "cell_type": "code",
   "execution_count": null,
   "id": "23",
   "metadata": {},
   "outputs": [],
   "source": [
    "troute_pydantic_models = get_troute_parameters(catalog, domain, identifier)\n",
    "troute_pydantic_models"
   ]
  }
 ],
 "metadata": {
  "kernelspec": {
   "display_name": "“iceberg_071625”",
   "language": "python",
   "name": "iceberg"
  },
  "language_info": {
   "codemirror_mode": {
    "name": "ipython",
    "version": 3
   },
   "file_extension": ".py",
   "mimetype": "text/x-python",
   "name": "python",
   "nbconvert_exporter": "python",
   "pygments_lexer": "ipython3",
   "version": "3.12.10"
  }
 },
 "nbformat": 4,
 "nbformat_minor": 5
}
