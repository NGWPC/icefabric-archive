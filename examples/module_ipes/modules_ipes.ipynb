{
 "cells": [
  {
   "cell_type": "markdown",
   "id": "0",
   "metadata": {},
   "source": [
    "# Demo: Generation & extraction of the IPEs for the NWM Modules\n",
    "\n",
    "Generate & extract relevant IPEs for the NWM modules.\n",
    "\n",
    "__Pre-requisites:__\n",
    "\n",
    "- `.env` with your AWS credentials"
   ]
  },
  {
   "cell_type": "markdown",
   "id": "1",
   "metadata": {},
   "source": [
    "## Modules/Libraries"
   ]
  },
  {
   "cell_type": "code",
   "execution_count": null,
   "id": "2",
   "metadata": {},
   "outputs": [],
   "source": [
    "import json\n",
    "import os\n",
    "from pathlib import Path\n",
    "\n",
    "from pyiceberg.catalog import load_catalog\n",
    "\n",
    "from icefabric.helpers import load_creds, load_pyiceberg_config\n",
    "from icefabric.modules import (\n",
    "    get_cfe_parameters,\n",
    "    get_lasam_parameters,\n",
    "    get_lstm_parameters,\n",
    "    get_noahowp_parameters,\n",
    "    get_sacsma_parameters,\n",
    "    get_smp_parameters,\n",
    "    get_snow17_parameters,\n",
    "    get_topmodel_parameters,\n",
    "    get_troute_parameters,\n",
    "    get_ueb_parameters,\n",
    ")\n",
    "from icefabric.schemas.hydrofabric import HydrofabricDomains\n",
    "\n",
    "# Changes the current working dir to be the project root\n",
    "current_working_dir = Path.cwd()\n",
    "os.chdir(Path.cwd() / \"../../\")\n",
    "print(\n",
    "    f\"Changed current working dir from {current_working_dir} to: {Path.cwd()}. This must run at the project root\"\n",
    ")\n",
    "\n",
    "# dir is where the .env file is located\n",
    "load_creds(dir=Path.cwd())\n",
    "\n",
    "# Loading the local pyiceberg config settings\n",
    "pyiceberg_config = load_pyiceberg_config(Path.cwd())"
   ]
  },
  {
   "cell_type": "markdown",
   "id": "3",
   "metadata": {},
   "source": [
    "## User Arguments"
   ]
  },
  {
   "cell_type": "code",
   "execution_count": null,
   "id": "4",
   "metadata": {},
   "outputs": [],
   "source": [
    "# Assumes your S3 .env file is set up for the NGWPC Test Account\n",
    "catalog = load_catalog(\"glue\", **{\"type\": \"glue\", \"glue.region\": \"us-east-1\"})\n",
    "\n",
    "# Picking a gauge in CONUS and loading upstream connections\n",
    "domain = HydrofabricDomains.CONUS\n",
    "upstream_connections_path = Path(f\"data/hydrofabric/{domain.value}_upstream_connections.json\")\n",
    "\n",
    "if not upstream_connections_path.exists():\n",
    "    raise FileNotFoundError\n",
    "\n",
    "with open(upstream_connections_path) as f:\n",
    "    data = json.load(f)\n",
    "    print(\n",
    "        f\"Loading upstream connections generated on: {data['_metadata']['generated_at']} \"\n",
    "        f\"from snapshot id: {data['_metadata']['iceberg']['snapshot_id']}\"\n",
    "    )\n",
    "    upstream_dict = data[\"upstream_connections\"]\n",
    "\n",
    "# Pick the gauge identifier\n",
    "# identifier = 'gages-06710385'\n",
    "identifier = \"gages-11280000\""
   ]
  },
  {
   "cell_type": "markdown",
   "id": "5",
   "metadata": {},
   "source": [
    "## TopModel"
   ]
  },
  {
   "cell_type": "code",
   "execution_count": null,
   "id": "6",
   "metadata": {},
   "outputs": [],
   "source": [
    "topmodel_pydantic_models = get_topmodel_parameters(\n",
    "    catalog=catalog, namespace=domain.value, identifier=identifier, upstream_dict=upstream_dict\n",
    ")\n",
    "topmodel_pydantic_models"
   ]
  },
  {
   "cell_type": "markdown",
   "id": "7",
   "metadata": {},
   "source": [
    "## OWP NOAH MODULAR"
   ]
  },
  {
   "cell_type": "code",
   "execution_count": null,
   "id": "8",
   "metadata": {},
   "outputs": [],
   "source": [
    "noahowp_pydantic_models = get_noahowp_parameters(\n",
    "    catalog=catalog, namespace=domain.value, identifier=identifier, upstream_dict=upstream_dict\n",
    ")\n",
    "noahowp_pydantic_models"
   ]
  },
  {
   "cell_type": "markdown",
   "id": "9",
   "metadata": {},
   "source": [
    "## LASAM"
   ]
  },
  {
   "cell_type": "code",
   "execution_count": null,
   "id": "10",
   "metadata": {},
   "outputs": [],
   "source": [
    "lasam_pydantic_models = get_lasam_parameters(\n",
    "    catalog=catalog,\n",
    "    namespace=domain.value,\n",
    "    identifier=identifier,\n",
    "    upstream_dict=upstream_dict,\n",
    "    sft_included=True,\n",
    "    soil_params_file=\"vG_default_params_HYDRUS.dat\",\n",
    ")\n",
    "lasam_pydantic_models"
   ]
  },
  {
   "cell_type": "code",
   "execution_count": null,
   "id": "11",
   "metadata": {},
   "outputs": [],
   "source": [
    "lasam_pydantic_models = get_lasam_parameters(\n",
    "    catalog=catalog,\n",
    "    namespace=domain.value,\n",
    "    identifier=identifier,\n",
    "    upstream_dict=upstream_dict,\n",
    "    sft_included=False,\n",
    "    soil_params_file=\"vG_default_params_HYDRUS.dat\",\n",
    ")\n",
    "lasam_pydantic_models"
   ]
  },
  {
   "cell_type": "markdown",
   "id": "12",
   "metadata": {},
   "source": [
    "## LSTM"
   ]
  },
  {
   "cell_type": "code",
   "execution_count": null,
   "id": "13",
   "metadata": {},
   "outputs": [],
   "source": [
    "lstm_pydantic_models = get_lstm_parameters(\n",
    "    catalog=catalog,\n",
    "    namespace=domain.value,\n",
    "    identifier=identifier,\n",
    "    upstream_dict=upstream_dict,\n",
    ")\n",
    "lstm_pydantic_models"
   ]
  },
  {
   "cell_type": "markdown",
   "id": "14",
   "metadata": {},
   "source": [
    "## SMP"
   ]
  },
  {
   "cell_type": "code",
   "execution_count": null,
   "id": "15",
   "metadata": {},
   "outputs": [],
   "source": [
    "module = \"CFE-S\"  # , 'CFE-X', 'LASAM', 'TopModel'\n",
    "smp_pydantic_models = get_smp_parameters(\n",
    "    catalog=catalog, namespace=domain.value, identifier=identifier, upstream_dict=upstream_dict, module=module\n",
    ")\n",
    "smp_pydantic_models"
   ]
  },
  {
   "cell_type": "markdown",
   "id": "16",
   "metadata": {},
   "source": [
    "## Snow17"
   ]
  },
  {
   "cell_type": "code",
   "execution_count": null,
   "id": "17",
   "metadata": {},
   "outputs": [],
   "source": [
    "snow17_pydantic_models = get_snow17_parameters(\n",
    "    catalog=catalog, namespace=domain.value, identifier=identifier, upstream_dict=upstream_dict, envca=False\n",
    ")\n",
    "\n",
    "snow17_pydantic_models"
   ]
  },
  {
   "cell_type": "code",
   "execution_count": null,
   "id": "18",
   "metadata": {},
   "outputs": [],
   "source": [
    "snow17_pydantic_models = get_snow17_parameters(\n",
    "    catalog=catalog, namespace=domain.value, identifier=identifier, upstream_dict=upstream_dict, envca=True\n",
    ")\n",
    "snow17_pydantic_models"
   ]
  },
  {
   "cell_type": "markdown",
   "id": "19",
   "metadata": {},
   "source": [
    "## SAC SMA"
   ]
  },
  {
   "cell_type": "code",
   "execution_count": null,
   "id": "20",
   "metadata": {},
   "outputs": [],
   "source": [
    "sacsma_pydantic_models = get_sacsma_parameters(\n",
    "    catalog=catalog, namespace=domain.value, identifier=identifier, upstream_dict=upstream_dict, envca=False\n",
    ")\n",
    "sacsma_pydantic_models"
   ]
  },
  {
   "cell_type": "code",
   "execution_count": null,
   "id": "21",
   "metadata": {},
   "outputs": [],
   "source": [
    "sacsma_pydantic_models = get_sacsma_parameters(\n",
    "    catalog=catalog, namespace=domain.value, identifier=identifier, upstream_dict=upstream_dict, envca=True\n",
    ")\n",
    "sacsma_pydantic_models"
   ]
  },
  {
   "cell_type": "markdown",
   "id": "22",
   "metadata": {},
   "source": [
    "## T-Route"
   ]
  },
  {
   "cell_type": "code",
   "execution_count": null,
   "id": "23",
   "metadata": {},
   "outputs": [],
   "source": [
    "troute_pydantic_models = get_troute_parameters(\n",
    "    catalog=catalog,\n",
    "    namespace=domain.value,\n",
    "    identifier=identifier,\n",
    "    upstream_dict=upstream_dict,\n",
    ")\n",
    "troute_pydantic_models"
   ]
  },
  {
   "cell_type": "markdown",
   "id": "24",
   "metadata": {},
   "source": [
    "## UEB"
   ]
  },
  {
   "cell_type": "code",
   "execution_count": null,
   "id": "25",
   "metadata": {},
   "outputs": [],
   "source": [
    "ueb_pydantic_models = get_ueb_parameters(\n",
    "    catalog, namespace=domain.value, identifier=identifier, envca=False, upstream_dict=upstream_dict\n",
    ")\n",
    "\n",
    "ueb_pydantic_models"
   ]
  },
  {
   "cell_type": "markdown",
   "id": "26",
   "metadata": {},
   "source": [
    "## CFE"
   ]
  },
  {
   "cell_type": "code",
   "execution_count": null,
   "id": "27",
   "metadata": {},
   "outputs": [],
   "source": [
    "cfex_pydantic_models = get_cfe_parameters(\n",
    "    catalog, namespace=domain.value, identifier=identifier, module=\"CFE-X\", upstream_dict=upstream_dict\n",
    ")\n",
    "cfex_pydantic_models"
   ]
  },
  {
   "cell_type": "code",
   "execution_count": null,
   "id": "28",
   "metadata": {},
   "outputs": [],
   "source": [
    "cfes_pydantic_models = get_cfe_parameters(\n",
    "    catalog,\n",
    "    namespace=domain.value,\n",
    "    identifier=identifier,\n",
    "    module=\"CFE-S\",\n",
    "    upstream_dict=upstream_dict,\n",
    "    sft_included=True,\n",
    ")\n",
    "cfes_pydantic_models"
   ]
  }
 ],
 "metadata": {
  "kernelspec": {
   "display_name": "“iceberg_071625”",
   "language": "python",
   "name": "iceberg"
  },
  "language_info": {
   "codemirror_mode": {
    "name": "ipython",
    "version": 3
   },
   "file_extension": ".py",
   "mimetype": "text/x-python",
   "name": "python",
   "nbconvert_exporter": "python",
   "pygments_lexer": "ipython3",
   "version": "3.12.10"
  }
 },
 "nbformat": 4,
 "nbformat_minor": 5
}
