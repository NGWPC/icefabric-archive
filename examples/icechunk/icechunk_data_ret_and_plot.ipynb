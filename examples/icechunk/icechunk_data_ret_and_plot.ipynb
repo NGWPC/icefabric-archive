{
 "cells": [
  {
   "cell_type": "markdown",
   "id": "0",
   "metadata": {},
   "source": [
    "## Retrieving Icechunk Data\n",
    "Intantiate and retrieve the data from the NLCD Land Cover Icechunk repo. Print and plot the data.\n",
    "\n",
    "Requires:\n",
    "- `.env` with your AWS credentials"
   ]
  },
  {
   "cell_type": "code",
   "execution_count": null,
   "id": "1",
   "metadata": {},
   "outputs": [],
   "source": [
    "from pathlib import Path\n",
    "\n",
    "import matplotlib.pyplot as plt"
   ]
  },
  {
   "cell_type": "code",
   "execution_count": null,
   "id": "2",
   "metadata": {},
   "outputs": [],
   "source": [
    "from icefabric.helpers import load_creds\n",
    "\n",
    "# dir is where the .env file is located\n",
    "load_creds(dir=Path.cwd().parents[1])"
   ]
  },
  {
   "cell_type": "code",
   "execution_count": null,
   "id": "3",
   "metadata": {},
   "outputs": [],
   "source": [
    "from icefabric.builds import IcechunkRepo\n",
    "from icefabric.schemas import NGWPCTestLocations\n",
    "\n",
    "# Retrive data and print\n",
    "land_cover_repo = IcechunkRepo(location=NGWPCTestLocations.NLCD_IC.path)\n",
    "lc_data = land_cover_repo.retrieve_dataset()\n",
    "print(lc_data)"
   ]
  },
  {
   "cell_type": "markdown",
   "id": "4",
   "metadata": {},
   "source": [
    "### Plot 2023 data"
   ]
  },
  {
   "cell_type": "code",
   "execution_count": null,
   "id": "5",
   "metadata": {},
   "outputs": [],
   "source": [
    "# Print data for year 2023\n",
    "print(lc_data[\"5\"].sel(year=2023))\n",
    "\n",
    "# Set up plot for 2023 land cover\n",
    "lc_data[\"5\"].sel(year=2023).plot(x=\"X5\", y=\"Y5\")\n",
    "\n",
    "# Invert the y-axis to show the CONUS region correctly\n",
    "plt.gca().invert_yaxis()\n",
    "\n",
    "# Add labels and show the plot\n",
    "plt.xlabel(\"LON\")\n",
    "plt.ylabel(\"LAT\")\n",
    "plt.title(\"CONUS Land Cover\")\n",
    "plt.show()"
   ]
  },
  {
   "cell_type": "markdown",
   "id": "6",
   "metadata": {},
   "source": [
    "## Topobathy\n",
    "Intantiate and retrieve the data from one Topobathy Icechunk repo. Print and plot the data.\n",
    "\n",
    "### Retrieve Data"
   ]
  },
  {
   "cell_type": "code",
   "execution_count": null,
   "id": "7",
   "metadata": {},
   "outputs": [],
   "source": [
    "# Retrive data and print\n",
    "topo_repo = IcechunkRepo(location=NGWPCTestLocations.TOPO_PR_USVI_30M_IC.path)\n",
    "topo_data = topo_repo.retrieve_dataset()\n",
    "print(topo_data)"
   ]
  },
  {
   "cell_type": "markdown",
   "id": "8",
   "metadata": {},
   "source": [
    "### Plot Data"
   ]
  },
  {
   "cell_type": "code",
   "execution_count": null,
   "id": "9",
   "metadata": {},
   "outputs": [],
   "source": [
    "# Print Dataarray\n",
    "print(topo_data[\"elevation\"])\n",
    "\n",
    "# Set up plot\n",
    "topo_data[\"elevation\"].plot(x=\"x\", y=\"y\")\n",
    "\n",
    "# Add labels and show the plot\n",
    "plt.xlabel(\"LON\")\n",
    "plt.ylabel(\"LAT\")\n",
    "plt.title(\"Puerto Rico & USVI 30M Topobathy\")\n",
    "plt.show()"
   ]
  }
 ],
 "metadata": {
  "kernelspec": {
   "display_name": "icefabric",
   "language": "python",
   "name": "python3"
  },
  "language_info": {
   "codemirror_mode": {
    "name": "ipython",
    "version": 3
   },
   "file_extension": ".py",
   "mimetype": "text/x-python",
   "name": "python",
   "nbconvert_exporter": "python",
   "pygments_lexer": "ipython3",
   "version": "3.12.11"
  }
 },
 "nbformat": 4,
 "nbformat_minor": 5
}
