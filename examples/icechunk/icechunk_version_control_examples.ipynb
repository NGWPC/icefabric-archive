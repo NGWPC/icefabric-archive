{
 "cells": [
  {
   "cell_type": "markdown",
   "id": "0",
   "metadata": {},
   "source": [
    "## Icechunk Version Control for Land Cover Data\n",
    "\n",
    "### Overview\n",
    "\n",
    "This notebook demonstrates **version control capabilities for geospatial raster data** using Icechunk, a new cloud-native storage format. We'll showcase how slowly-changing time-varying raster data (specifically NLCD land cover data) can be managed with full version control, enabling reproducible research and data lineage tracking.\n",
    "\n",
    "#### What is Icechunk?\n",
    "\n",
    "**Icechunk** is a cloud-native storage format that brings **Git-like version control** to large scientific datasets. Icechunk is very similar to Iceberg, but for data-cube/tensor data. Unlike traditional file systems where data changes overwrite previous versions, Icechunk:\n",
    "\n",
    "- **Creates snapshots** of your data at each change\n",
    "- **Enables time travel** to access any previous version\n",
    "- **Supports branching and merging** for collaborative workflows\n",
    "- **Tracks data lineage** with commit messages and metadata\n",
    "- **Uses virtual references** to avoid data duplication. This means existing .nc or COGs can be referenced without rewriting the data\n",
    "\n",
    "### Dataset: National Land Cover Database (NLCD)\n",
    "\n",
    "#### Source: https://www.mrlc.gov/data\n",
    "\n",
    "The NLCD provides land cover classifications for the Continental United States (CONUS)\n",
    "\n",
    "#### Land Cover Classes\n",
    "\n",
    "The NLCD uses standardized codes for different land cover types:\n",
    "- **11**: Open Water\n",
    "- **12**: Perennial Ice/Snow\n",
    "- **21**: Developed, Open Space\n",
    "- **22**: Developed, Low Intensity\n",
    "- **23**: Developed, Medium Intensity\n",
    "- **24**: Developed, High Intensity\n",
    "- **31**: Barren Land (Rock/Sand/Clay)\n",
    "- **41**: Decidous Forest\n",
    "- **42**: Evergreen Forest\n",
    "- **43**: Mixed Forest\n",
    "- **52**: Shrub/Scrub\n",
    "- **71**: Grassland/Herbaceous\n",
    "- **81**: Pasture/Hay\n",
    "- **82**: Cultivated Crops\n",
    "- **90**: Woody Wetlands\n",
    "- **95**: Emergent Herbaceous Wetlands"
   ]
  },
  {
   "cell_type": "code",
   "execution_count": null,
   "id": "1",
   "metadata": {},
   "outputs": [],
   "source": [
    "import warnings\n",
    "from pathlib import Path\n",
    "\n",
    "import icechunk as ic\n",
    "import matplotlib.pyplot as plt\n",
    "import xarray as xr\n",
    "\n",
    "from icefabric.helpers import load_creds\n",
    "\n",
    "warnings.filterwarnings(\"ignore\")\n",
    "\n",
    "# dir is where the .env file is located\n",
    "load_creds()"
   ]
  },
  {
   "cell_type": "markdown",
   "id": "2",
   "metadata": {},
   "source": [
    "### Opening the Icechunk Repository\n",
    "\n",
    "Unlike traditional file formats (GeoTIFF, NetCDF), Icechunk stores data in a **repository structure** similar to Git. Each repository contains:\n",
    "\n",
    "- **Snapshots**: Immutable versions of your data\n",
    "- **Branches**: Parallel development lines (like Git branches)\n",
    "- **Virtual references**: Pointers to external data files (avoiding duplication)\n",
    "- **Metadata**: Rich attribution and processing history\n",
    "\n",
    "#### Virtual Chunk Architecture\n",
    "\n",
    "Our NLCD data uses **virtual references** - instead of copying large GeoTIFF files into Icechunk, we store lightweight references pointing to the original files. This provides:\n",
    "\n",
    "- **Fast ingestion** (no data copying)\n",
    "- **Storage efficiency** (references vs. full copies)  \n",
    "- **Source preservation** (original files remain unchanged)"
   ]
  },
  {
   "cell_type": "code",
   "execution_count": null,
   "id": "3",
   "metadata": {},
   "outputs": [],
   "source": [
    "# NOTE This demonstration/example assumes the data/land_cover icechunk has been made locally to the store path, and the TIFs are in the correct location in the data path\n",
    "file_location = Path(\"data/land_cover_tifs\").resolve()\n",
    "store_path = Path(\"data/land_cover\").resolve()\n",
    "\n",
    "storage = ic.local_filesystem_storage(str(store_path))\n",
    "repo = ic.Repository.open(\n",
    "    storage=storage,\n",
    "    authorize_virtual_chunk_access=ic.containers_credentials({f\"file://{file_location}\": None}),\n",
    ")"
   ]
  },
  {
   "cell_type": "markdown",
   "id": "4",
   "metadata": {},
   "source": [
    "### Repository History: Data Lineage Tracking\n",
    "\n",
    "One of Icechunk's key features is **automatic lineage tracking**. Every change to the dataset creates a new snapshot with:\n",
    "\n",
    "- **Unique identifier** (snapshot ID)\n",
    "- **Timestamp** of the change\n",
    "- **Commit message** describing what changed\n",
    "- **Parent relationships** showing data evolution\n",
    "\n",
    "This provides complete **audit trails** for scientific reproducibility.\n"
   ]
  },
  {
   "cell_type": "code",
   "execution_count": null,
   "id": "5",
   "metadata": {},
   "outputs": [],
   "source": [
    "# Print repo ancestry\n",
    "for ancestor in repo.ancestry(branch=\"main\"):\n",
    "    print(f\"Snapshot ID:\\t{ancestor.id}\")\n",
    "    print(f\"Timestamp:\\t{ancestor.written_at}\")\n",
    "    print(f\"Message:\\t{ancestor.message}\\n\")"
   ]
  },
  {
   "cell_type": "markdown",
   "id": "6",
   "metadata": {},
   "source": [
    "### Accessing Current Data\n",
    "\n",
    "The data appears as a standard Xarray Dataset, but with version control underneath."
   ]
  },
  {
   "cell_type": "code",
   "execution_count": null,
   "id": "7",
   "metadata": {},
   "outputs": [],
   "source": [
    "session = repo.readonly_session(branch=\"main\")\n",
    "ds = xr.open_zarr(session.store, consolidated=False)\n",
    "ds"
   ]
  },
  {
   "cell_type": "code",
   "execution_count": null,
   "id": "8",
   "metadata": {},
   "outputs": [],
   "source": [
    "# Set up plot for 1990 land cover\n",
    "ds[\"5\"].sel(year=1990).plot(x=\"X5\", y=\"Y5\")\n",
    "\n",
    "# Invert the y-axis to show the CONUS region correctly\n",
    "plt.gca().invert_yaxis()\n",
    "\n",
    "# Add labels and show the plot\n",
    "plt.xlabel(\"LON\")\n",
    "plt.ylabel(\"LAT\")\n",
    "plt.title(\"1990 CONUS Land Cover\")\n",
    "plt.show()"
   ]
  },
  {
   "cell_type": "markdown",
   "id": "9",
   "metadata": {},
   "source": [
    "### Demonstrating Version Control: Adding Metadata\n",
    "\n",
    "Now we'll demonstrate Icechunk's version control by **adding metadata** to our dataset\n",
    "\n",
    "#### The Version Control Process\n",
    "\n",
    "1. **Create a writable session** (like checking out code for editing)\n",
    "2. **Modify the dataset** (add/update attributes, data, etc.)\n",
    "3. **Commit changes** with descriptive message\n",
    "4. **New snapshot created** automatically\n",
    "\n",
    "**Important**: The original data remains **completely unchanged** and accessible.\n"
   ]
  },
  {
   "cell_type": "code",
   "execution_count": null,
   "id": "10",
   "metadata": {},
   "outputs": [],
   "source": [
    "session = repo.writable_session(\"main\")\n",
    "ds.attrs[\"sample_attr\"] = \"sample_attr\"\n",
    "ds2 = ds.copy()\n",
    "ds2"
   ]
  },
  {
   "cell_type": "code",
   "execution_count": null,
   "id": "11",
   "metadata": {},
   "outputs": [],
   "source": [
    "session.store.sync_clear()  # Clears the store, but preserves snapshots and references to the data"
   ]
  },
  {
   "cell_type": "code",
   "execution_count": null,
   "id": "12",
   "metadata": {},
   "outputs": [],
   "source": [
    "# NOTE This may take 8-10 minutes\n",
    "ds2.virtualize.to_icechunk(session.store)\n",
    "print(session.commit(\"Added a sample attribute\"))"
   ]
  },
  {
   "cell_type": "markdown",
   "id": "13",
   "metadata": {},
   "source": [
    "### Verifying Version History\n",
    "\n",
    "Let's examine the repository history again. Notice how we now have **two snapshots**:\n",
    "\n",
    "1. **Original dataset** (initial commit)\n",
    "2. **Dataset with metadata** (our recent addition)\n",
    "\n",
    "This demonstrates **non-destructive updates** - both versions coexist and remain accessible."
   ]
  },
  {
   "cell_type": "code",
   "execution_count": null,
   "id": "14",
   "metadata": {},
   "outputs": [],
   "source": [
    "# Print repo ancestry\n",
    "for ancestor in repo.ancestry(branch=\"main\"):\n",
    "    print(f\"Snapshot ID:\\t{ancestor.id}\")\n",
    "    print(f\"Timestamp:\\t{ancestor.written_at}\")\n",
    "    print(f\"Message:\\t{ancestor.message}\\n\")"
   ]
  },
  {
   "cell_type": "markdown",
   "id": "15",
   "metadata": {},
   "source": [
    "### Time Travel: Accessing Previous Versions\n",
    "\n",
    "One of Icechunk's most powerful features is **time travel** - the ability to access any previous version of your data using its snapshot ID.\n",
    "\n",
    "#### Use Cases for Time Travel:\n",
    "\n",
    "- **Reproducing analyses** from specific points in time\n",
    "- **Debugging** when something goes wrong\n",
    "- **Comparing versions** to understand changes\n",
    "- **Rolling back** to previous states\n",
    "- **Auditing** data processing workflows\n",
    "\n",
    "Below, we access the **original version** (before we added metadata):\n"
   ]
  },
  {
   "cell_type": "code",
   "execution_count": null,
   "id": "16",
   "metadata": {},
   "outputs": [],
   "source": [
    "snapshot_id = list(repo.ancestry(branch=\"main\"))[1].id\n",
    "print(f\"Snapshot ID:\\t{snapshot_id}\")\n",
    "\n",
    "session = repo.readonly_session(snapshot_id=snapshot_id)\n",
    "_ds = xr.open_zarr(session.store, consolidated=False)\n",
    "_ds"
   ]
  },
  {
   "cell_type": "markdown",
   "id": "17",
   "metadata": {},
   "source": [
    "Notice how the **original version lacks the `sample_attr`** we added. This proves that the data is versioned and preserved"
   ]
  },
  {
   "cell_type": "code",
   "execution_count": null,
   "id": "18",
   "metadata": {},
   "outputs": [],
   "source": [
    "snapshot_id = list(repo.ancestry(branch=\"main\"))[0].id  # Latest\n",
    "print(f\"Snapshot ID:\\t{snapshot_id}\")\n",
    "\n",
    "session = repo.readonly_session(snapshot_id=snapshot_id)\n",
    "latest_ds = xr.open_zarr(session.store, consolidated=False)\n",
    "latest_ds"
   ]
  },
  {
   "cell_type": "markdown",
   "id": "19",
   "metadata": {},
   "source": [
    "This demonstrates how Icechunk enables robust version control for geospatial data, meeting enterprise requirements for data governance, reproducibility, and collaborative research workflows (FAIR)"
   ]
  },
  {
   "cell_type": "markdown",
   "id": "20",
   "metadata": {},
   "source": []
  }
 ],
 "metadata": {
  "kernelspec": {
   "display_name": ".venv",
   "language": "python",
   "name": "python3"
  },
  "language_info": {
   "codemirror_mode": {
    "name": "ipython",
    "version": 3
   },
   "file_extension": ".py",
   "mimetype": "text/x-python",
   "name": "python",
   "nbconvert_exporter": "python",
   "pygments_lexer": "ipython3",
   "version": "3.13.2"
  }
 },
 "nbformat": 4,
 "nbformat_minor": 5
}
