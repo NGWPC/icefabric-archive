{
 "cells": [
  {
   "cell_type": "markdown",
   "metadata": {},
   "source": [
    "### Querying RAS XS through PyIceberg\n",
    "\n",
    "The following notebook is to walk you through the process of querying a RAS XS through PyIceberg. \n",
    "\n",
    "For the warehouse path, please put the path to your S3 tables URI\n",
    "\n",
    "Requires `.env` containing `test` account credentials AND default region: `AWS_DEFAULT_REGION=\"us-east-1\"`"
   ]
  },
  {
   "cell_type": "code",
   "execution_count": null,
   "metadata": {},
   "outputs": [],
   "source": [
    "from pathlib import Path\n",
    "\n",
    "from pyiceberg.catalog import load_catalog"
   ]
  },
  {
   "cell_type": "code",
   "execution_count": null,
   "metadata": {},
   "outputs": [],
   "source": [
    "from icefabric.helpers import load_creds, to_geopandas\n",
    "\n",
    "# dir is where the .env file is located\n",
    "load_creds(dir=Path.cwd().parents[1])"
   ]
  },
  {
   "cell_type": "code",
   "execution_count": null,
   "metadata": {},
   "outputs": [],
   "source": [
    "import os\n",
    "\n",
    "os.environ[\"PYICEBERG_HOME\"]"
   ]
  },
  {
   "cell_type": "code",
   "execution_count": null,
   "metadata": {},
   "outputs": [],
   "source": [
    "catalog = load_catalog(\"glue\", **{\"type\": \"glue\", \"glue.region\": \"us-east-1\"})\n",
    "catalog.list_tables(\"mip_xs\")[40:50]"
   ]
  },
  {
   "cell_type": "markdown",
   "metadata": {},
   "source": [
    "Using `catalog.load_table()` we can directly call the XS data. Each is stored based on HUC8"
   ]
  },
  {
   "cell_type": "code",
   "execution_count": null,
   "metadata": {},
   "outputs": [],
   "source": [
    "# Reading MIP XS\n",
    "namespace = \"mip_xs\"\n",
    "huc_number = \"02040106\"\n",
    "df = catalog.load_table(f\"{namespace}.{huc_number}\").scan().to_pandas()\n",
    "gdf = to_geopandas(df)\n",
    "gdf.head()\n",
    "# gdf.explore()"
   ]
  },
  {
   "cell_type": "markdown",
   "metadata": {},
   "source": [
    "To query individual river reaches, we can use the scan feature to query based on the table schema"
   ]
  },
  {
   "cell_type": "code",
   "execution_count": null,
   "metadata": {},
   "outputs": [],
   "source": [
    "catalog.load_table(f\"{namespace}.{huc_number}\").schema"
   ]
  },
  {
   "cell_type": "markdown",
   "metadata": {},
   "source": [
    "Let's query by the river name"
   ]
  },
  {
   "cell_type": "code",
   "execution_count": null,
   "metadata": {},
   "outputs": [],
   "source": [
    "from pyiceberg.expressions import EqualTo\n",
    "\n",
    "df = (\n",
    "    catalog.load_table(f\"{namespace}.{huc_number}\")\n",
    "    .scan(row_filter=EqualTo(\"river\", \"Lehigh River\"))\n",
    "    .to_pandas()\n",
    ")\n",
    "display(df.tail())\n",
    "# to_geopandas(df).explore()"
   ]
  },
  {
   "cell_type": "markdown",
   "metadata": {},
   "source": [
    "Now, let's query by an individual river station ID"
   ]
  },
  {
   "cell_type": "code",
   "execution_count": null,
   "metadata": {},
   "outputs": [],
   "source": [
    "from pyiceberg.expressions import EqualTo\n",
    "\n",
    "df = (\n",
    "    catalog.load_table(f\"{namespace}.{huc_number}\")\n",
    "    .scan(row_filter=EqualTo(\"river_station\", 573.0077))\n",
    "    .to_pandas()\n",
    ")\n",
    "display(df.head())\n",
    "# to_geopandas(df).explore()"
   ]
  },
  {
   "cell_type": "markdown",
   "metadata": {},
   "source": [
    "To extend this notebook to other HUCs, just change the HUC number, then change the XS reference"
   ]
  }
 ],
 "metadata": {
  "kernelspec": {
   "display_name": "icefabric",
   "language": "python",
   "name": "python3"
  },
  "language_info": {
   "codemirror_mode": {
    "name": "ipython",
    "version": 3
   },
   "file_extension": ".py",
   "mimetype": "text/x-python",
   "name": "python",
   "nbconvert_exporter": "python",
   "pygments_lexer": "ipython3",
   "version": "3.12.11"
  }
 },
 "nbformat": 4,
 "nbformat_minor": 2
}
