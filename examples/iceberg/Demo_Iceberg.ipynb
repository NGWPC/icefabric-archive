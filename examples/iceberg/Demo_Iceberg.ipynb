{
 "cells": [
  {
   "cell_type": "markdown",
   "id": "a24f20d0-abb4-413a-a70b-0fb6d3ca1e22",
   "metadata": {},
   "source": [
    "# Introduction:\n",
    "## Generation of Iceberg Catalog for Parquet files\n",
    "\n",
    "Note:\n",
    "\n",
    "For building from S3, requires `AWS_ACCESS_KEY_ID`, `AWS_SECRET_ACCESS_KEY`, and `AWS_SESSION_TOKEN` in your environmental variables. The recommended method to set is to store in this directory's `.env` file.\n",
    "\n",
    "For building locally, store `ml_auxiliary_data.parquet` files in `./data/bathymetry/ml_axuiliary_data/vpuid==XX/ml_auxiliary_data.parquet`"
   ]
  },
  {
   "cell_type": "code",
   "execution_count": null,
   "id": "7e3f71a8-a823-4df9-90df-8d6e62969faa",
   "metadata": {},
   "outputs": [],
   "source": [
    "import os\n",
    "import warnings\n",
    "\n",
    "import pyarrow.parquet as pq\n",
    "from dotenv import load_dotenv\n",
    "from pyiceberg.catalog import load_catalog\n",
    "from pyiceberg.exceptions import NamespaceAlreadyExistsError\n",
    "from pyiceberg.expressions import And, GreaterThan, GreaterThanOrEqual, LessThan\n",
    "\n",
    "from icefabric_manage.iceberg_table import IcebergTable\n",
    "\n",
    "load_dotenv()\n",
    "\n",
    "warnings.filterwarnings(\"ignore\")"
   ]
  },
  {
   "attachments": {},
   "cell_type": "markdown",
   "id": "e6e15027-cc49-4508-b434-fc4362ffb44e",
   "metadata": {},
   "source": [
    "#### Demo:\n",
    "#### Establish A New Iceberg Catalog & Generate Tables For All Parquets in Local"
   ]
  },
  {
   "cell_type": "code",
   "execution_count": null,
   "id": "c74f8432-f07f-430d-830f-d0910a699ea8",
   "metadata": {
    "scrolled": true
   },
   "outputs": [],
   "source": [
    "# Scenario I\n",
    "# Instantiate class\n",
    "obj = IcebergTable()\n",
    "\n",
    "# Extract list of parquets\n",
    "parquet_list = obj.read_data_dirs(data_dir=f\"{os.getcwd()}/data/bathymetry/ml_auxiliary_data/\")\n",
    "\n",
    "try:\n",
    "    obj.establish_catalog(catalog_name=\"bathymetry_ml_auxiliary_dev\", namespace=\"bathymetry_ml_auxiliary\")\n",
    "\n",
    "    # Generate tables w/in the new Iceberg catalog for all parquets detected\n",
    "    obj.create_table_for_all_parquets(parquet_list, app_name=\"bathymetry_ml_auxiliary\")\n",
    "except NamespaceAlreadyExistsError:\n",
    "    print(\"Table already exists! Exiting\")"
   ]
  },
  {
   "cell_type": "markdown",
   "id": "b7f5dba5-6892-45a2-81b8-1a80a3ad9f49",
   "metadata": {},
   "source": [
    "#### Demo\n",
    "#### Establish A New Iceberg Catalog & Generate Tables For All Parquets in S3"
   ]
  },
  {
   "cell_type": "code",
   "execution_count": null,
   "id": "ad60621b-fc16-44c7-85b9-8a66a2b1835b",
   "metadata": {},
   "outputs": [],
   "source": [
    "# Scenario II\n",
    "# Instantiate class\n",
    "obj = IcebergTable()\n",
    "\n",
    "try:\n",
    "    # Establish new Iceberg catalog\n",
    "    obj.establish_catalog(catalog_name=\"bathymetry_ml_auxiliary_dev2\", namespace=\"bathymetry_ml_auxiliary\")\n",
    "\n",
    "    # Generate tables w/in the new Iceberg catalog for all parquets detected in s3\n",
    "    obj.create_table_for_all_s3parquets(app_name=\"bathymetry_ml_auxiliary\", bucket_name=\"ngwpc-bathymetry\")\n",
    "except NamespaceAlreadyExistsError:\n",
    "    print(\"Table already exists! Exiting\")"
   ]
  },
  {
   "cell_type": "code",
   "execution_count": null,
   "id": "a1c58d4f-59e5-41d8-be31-536f3f790216",
   "metadata": {},
   "outputs": [],
   "source": [
    "# Scenario III\n",
    "# Instantiate class\n",
    "obj = IcebergTable()\n",
    "\n",
    "# Establish new Iceberg catalog\n",
    "try:\n",
    "    obj.establish_catalog(catalog_name=\"fema_xs\", namespace=\"mip\")\n",
    "    obj.establish_catalog(catalog_name=\"fema_xs\", namespace=\"ble\")\n",
    "    # Generate tables w/in the new Iceberg catalog for all parquets detected in s3\n",
    "    obj.create_table_for_all_s3parquets(app_name=\"mip_xs\", bucket_name=\"ngwpc-xs\")\n",
    "    obj.create_table_for_all_s3parquets(app_name=\"ble_xs\", bucket_name=\"ngwpc-xs\")\n",
    "except NamespaceAlreadyExistsError:\n",
    "    print(\"Table already exists! Exiting\")"
   ]
  },
  {
   "cell_type": "markdown",
   "id": "71949e8b-36f2-4e74-afb2-741a884d95dd",
   "metadata": {},
   "source": [
    "#### Demo:\n",
    "#### Load Iceberg Catalog & Table of Interest"
   ]
  },
  {
   "cell_type": "code",
   "execution_count": null,
   "id": "f449ec30-027e-45c8-91f2-9ad5402b6d17",
   "metadata": {},
   "outputs": [],
   "source": [
    "# Load-in table from catalog of interest & observe the first N (e.g. 20) feature columns + schema [local]\n",
    "catalog_name = \"bathymetry_ml_auxiliary_dev\"\n",
    "namespace = \"bathymetry_ml_auxiliary\"\n",
    "tablename = \"vpuid=01\"\n",
    "catalog = load_catalog(name=catalog_name, **{\"uri\": f\"sqlite:///iceberg_catalog/{catalog_name}_catalog.db\"})\n",
    "iceberg_table = catalog.load_table(f\"{namespace}.{tablename}\").scan().to_arrow()\n",
    "print(iceberg_table.to_string(preview_cols=20))"
   ]
  },
  {
   "cell_type": "code",
   "execution_count": null,
   "id": "6c69cdf0-90ae-4e32-8100-5aecc746edc9",
   "metadata": {},
   "outputs": [],
   "source": [
    "# Load-in table from catalog of interest & observe the first N (e.g. 20) feature columns + schema [s3]\n",
    "catalog_name = \"bathymetry_ml_auxiliary_dev2\"\n",
    "namespace = \"bathymetry_ml_auxiliary\"\n",
    "tablename = \"vpuid=01\"\n",
    "catalog = load_catalog(name=catalog_name, **{\"uri\": f\"sqlite:///iceberg_catalog/{catalog_name}_catalog.db\"})\n",
    "iceberg_table = catalog.load_table(f\"{namespace}.{tablename}\").scan().to_arrow()\n",
    "# print(iceberg_table.to_string(preview_cols=20))"
   ]
  },
  {
   "cell_type": "code",
   "execution_count": null,
   "id": "57d3a536-70dc-4b1d-a162-73e376bca0dc",
   "metadata": {},
   "outputs": [],
   "source": [
    "# Load-in table from catalog of interest & observe the first N (e.g. 20) feature columns + schema [xs]\n",
    "catalog_name = \"fema_xs\"\n",
    "namespace = \"mip\"\n",
    "tablename = \"huc_01020002\"\n",
    "catalog = load_catalog(name=catalog_name, **{\"uri\": f\"sqlite:///iceberg_catalog/{catalog_name}_catalog.db\"})\n",
    "iceberg_table = catalog.load_table(f\"{namespace}.{tablename}\").scan().to_arrow()\n",
    "print(iceberg_table.to_string(preview_cols=20))"
   ]
  },
  {
   "cell_type": "markdown",
   "id": "d69402cf-d224-45e8-9680-74b28205ea44",
   "metadata": {},
   "source": [
    "#### Observe List of Tables under Catalog of Interest"
   ]
  },
  {
   "cell_type": "code",
   "execution_count": null,
   "id": "aec525f7-6753-4ca5-ba5e-916c8c6659ec",
   "metadata": {},
   "outputs": [],
   "source": [
    "# All tables created within the namespace of interest.\n",
    "print(f\"List of tables under {namespace} within {catalog_name}:\\n\\n{catalog.list_tables(namespace)}\")"
   ]
  },
  {
   "cell_type": "markdown",
   "id": "c5b0cacc-8f92-49db-b080-5c1ecb72f57b",
   "metadata": {},
   "source": [
    "#### Query Iceberg Catalog's Table by Conditions (Note: Against the catalog_name = 'bathymetry_ml_auxiliary_dev')"
   ]
  },
  {
   "cell_type": "code",
   "execution_count": null,
   "id": "28153d1a-46de-43f0-962a-5b613bdbaa73",
   "metadata": {},
   "outputs": [],
   "source": [
    "# Filter Iceberg table based on threshold set for a given feature\n",
    "namespace = \"bathymetry_ml_auxiliary\"\n",
    "tablename = \"vpuid=01\"\n",
    "feature_name = \"owp_ahg_c\"\n",
    "thresh_val = 0.25\n",
    "catalog.load_table(f\"{namespace}.{tablename}\").scan(row_filter=LessThan(feature_name, thresh_val)).to_arrow()"
   ]
  },
  {
   "cell_type": "code",
   "execution_count": null,
   "id": "6320114d-8115-4e1f-b8fd-3c80aeaa07de",
   "metadata": {},
   "outputs": [],
   "source": [
    "namespace = \"bathymetry_ml_auxiliary\"\n",
    "tablename = \"vpuid=01\"\n",
    "feature_name = \"owp_ahg_c\"\n",
    "thresh_lower, thresh_upper = 0.25, 0.28\n",
    "catalog.load_table(f\"{namespace}.{tablename}\").scan(\n",
    "    row_filter=And(GreaterThan(feature_name, thresh_lower), LessThan(feature_name, thresh_upper))\n",
    ").to_arrow()"
   ]
  },
  {
   "cell_type": "code",
   "execution_count": null,
   "id": "3acdfde0-d34d-442e-87eb-724dbcef5d1b",
   "metadata": {},
   "outputs": [],
   "source": [
    "namespace = \"bathymetry_ml_auxiliary\"\n",
    "tablename = \"vpuid=01\"\n",
    "feature_name = \"owp_ahg_c\"\n",
    "thresh = 0.25\n",
    "catalog.load_table(f\"{namespace}.{tablename}\").scan(\n",
    "    row_filter=GreaterThanOrEqual(feature_name, thresh),\n",
    "    selected_fields=(\"owp_ahg_m\", \"slope\", \"LENGTHKM\", \"owp_ahg_f\"),\n",
    ").to_arrow()"
   ]
  },
  {
   "cell_type": "markdown",
   "id": "01dc1ff0-bfd5-4b7a-82d0-1d60e237e2cd",
   "metadata": {},
   "source": [
    "# Cross-Check & Verify:\n",
    "## Parquet Data Has Been Written To Its Associated Iceberg Table Sucessfully"
   ]
  },
  {
   "cell_type": "code",
   "execution_count": null,
   "id": "5117aae1-40fb-4392-b424-b488245ace52",
   "metadata": {},
   "outputs": [],
   "source": [
    "# Load a XS parquet file into a DataFrame\n",
    "parquet_file_path = f\"{os.getcwd()}//xs_data/mip_01020002/huc_01020002.parquet\"\n",
    "df = pq.read_table(parquet_file_path)\n",
    "df"
   ]
  },
  {
   "cell_type": "code",
   "execution_count": null,
   "id": "b365d647-bbfa-45a9-8673-52c564cf0ea7",
   "metadata": {},
   "outputs": [],
   "source": [
    "# Load a m1_auxiliary parquet file into a DataFrame\n",
    "parquet_file_path = f\"{os.getcwd()}/data/bathymetry/ml_auxiliary_data/vpuid=01/ml_auxiliary_data.parquet\"\n",
    "df = pq.read_table(parquet_file_path)\n",
    "df"
   ]
  },
  {
   "attachments": {
    "224c4550-7d87-455e-8193-0364425d439b.png": {
     "image/png": "[encoded data removed]"
    }
   },
   "cell_type": "markdown",
   "id": "655127c1-3bc5-4f7e-b224-fb9655102134",
   "metadata": {},
   "source": [
    "# Result:\n",
    "![image.png](attachment:224c4550-7d87-455e-8193-0364425d439b.png)"
   ]
  },
  {
   "cell_type": "code",
   "execution_count": null,
   "id": "f0020ac6-1f0b-4344-b83f-33f9d73a390c",
   "metadata": {},
   "outputs": [],
   "source": []
  }
 ],
 "metadata": {
  "kernelspec": {
   "display_name": ".venv",
   "language": "python",
   "name": "python3"
  },
  "language_info": {
   "codemirror_mode": {
    "name": "ipython",
    "version": 3
   },
   "file_extension": ".py",
   "mimetype": "text/x-python",
   "name": "python",
   "nbconvert_exporter": "python",
   "pygments_lexer": "ipython3",
   "version": "3.12.9"
  }
 },
 "nbformat": 4,
 "nbformat_minor": 5
}
