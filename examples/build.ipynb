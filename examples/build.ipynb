{
 "cells": [
  {
   "cell_type": "code",
   "execution_count": 26,
   "metadata": {},
   "outputs": [],
   "source": [
    "from pyiceberg.catalog import load_catalog\n",
    "import pyarrow.parquet as pq\n",
    "import os\n",
    "from pathlib import Path\n",
    "import geopandas as gpd\n",
    "from shapely import wkb"
   ]
  },
  {
   "cell_type": "code",
   "execution_count": 29,
   "metadata": {},
   "outputs": [],
   "source": [
    "def add_parquet_to_catalog(file_path, table_name):\n",
    "    # Check if table already exists\n",
    "    if catalog.table_exists(f\"hydrofabric.{table_name}\"):\n",
    "        print(f\"Table {table_name} already exists, loading it\")\n",
    "        return catalog.load_table(f\"hydrofabric.{table_name}\")\n",
    "    \n",
    "    # Read the parquet file\n",
    "    arrow_table = pq.read_table(file_path)\n",
    "    \n",
    "    # Create the table in the catalog\n",
    "    iceberg_table = catalog.create_table(\n",
    "        f\"hydrofabric.{table_name}\",\n",
    "        schema=arrow_table.schema,\n",
    "    )\n",
    "    \n",
    "    # Append the data to the table\n",
    "    iceberg_table.append(arrow_table)\n",
    "    \n",
    "    print(f\"Added {file_path} as table {table_name}\")\n",
    "    return iceberg_table"
   ]
  },
  {
   "cell_type": "code",
   "execution_count": 30,
   "metadata": {},
   "outputs": [
    {
     "name": "stdout",
     "output_type": "stream",
     "text": [
      "Added ../data/parquet/network.parquet as table network\n",
      "Added ../data/parquet/nexus.parquet as table nexus\n",
      "Added ../data/parquet/flowpath-attributes.parquet as table flowpath-attributes\n",
      "Added ../data/parquet/divides.parquet as table divides\n",
      "Added ../data/parquet/pois.parquet as table pois\n",
      "Added ../data/parquet/flowpath-attributes-ml.parquet as table flowpath-attributes-ml\n",
      "Added ../data/parquet/divide-attributes.parquet as table divide-attributes\n",
      "Added ../data/parquet/flowpaths.parquet as table flowpaths\n",
      "Added ../data/parquet/hydrolocations.parquet as table hydrolocations\n",
      "Added ../data/parquet/lakes.parquet as table lakes\n"
     ]
    }
   ],
   "source": [
    "# Get all parquet files from the directory\n",
    "parquet_dir = \"../data/parquet\"\n",
    "parquet_files = list(Path(parquet_dir).glob(\"*.parquet\"))\n",
    "\n",
    "# Dictionary to store all tables\n",
    "tables = {}\n",
    "\n",
    "# Add each parquet file to the catalog\n",
    "for parquet_file in parquet_files:\n",
    "    table_name = parquet_file.stem  # Get filename without extension\n",
    "    tables[table_name] = add_parquet_to_catalog(str(parquet_file), table_name)"
   ]
  },
  {
   "cell_type": "code",
   "execution_count": 31,
   "metadata": {},
   "outputs": [
    {
     "name": "stdout",
     "output_type": "stream",
     "text": [
      "Tables in the catalog:\n",
      "- ('hydrofabric', 'divide-attributes')\n",
      "- ('hydrofabric', 'divides')\n",
      "- ('hydrofabric', 'flowpath-attributes')\n",
      "- ('hydrofabric', 'flowpath-attributes-ml')\n",
      "- ('hydrofabric', 'flowpaths')\n",
      "- ('hydrofabric', 'hydrolocations')\n",
      "- ('hydrofabric', 'lakes')\n",
      "- ('hydrofabric', 'network')\n",
      "- ('hydrofabric', 'nexus')\n",
      "- ('hydrofabric', 'pois')\n"
     ]
    }
   ],
   "source": [
    "print(\"Tables in the catalog:\")\n",
    "for table_id in catalog.list_tables(\"hydrofabric\"):\n",
    "    print(f\"- {table_id}\")"
   ]
  },
  {
   "cell_type": "code",
   "execution_count": 40,
   "metadata": {},
   "outputs": [],
   "source": [
    "def create_geodataframe(df):\n",
    "    if 'geometry' in df.columns:\n",
    "        df['geometry'] = df['geometry'].apply(\n",
    "            lambda x: wkb.loads(x) if x is not None else None\n",
    "        )\n",
    "        return gpd.GeoDataFrame(df, geometry='geometry', crs=\"EPSG:5070\")\n",
    "    return df"
   ]
  },
  {
   "cell_type": "code",
   "execution_count": 41,
   "metadata": {},
   "outputs": [
    {
     "data": {
      "text/html": [
       "<div>\n",
       "<style scoped>\n",
       "    .dataframe tbody tr th:only-of-type {\n",
       "        vertical-align: middle;\n",
       "    }\n",
       "\n",
       "    .dataframe tbody tr th {\n",
       "        vertical-align: top;\n",
       "    }\n",
       "\n",
       "    .dataframe thead th {\n",
       "        text-align: right;\n",
       "    }\n",
       "</style>\n",
       "<table border=\"1\" class=\"dataframe\">\n",
       "  <thead>\n",
       "    <tr style=\"text-align: right;\">\n",
       "      <th></th>\n",
       "      <th>divide_id</th>\n",
       "      <th>toid</th>\n",
       "      <th>type</th>\n",
       "      <th>ds_id</th>\n",
       "      <th>areasqkm</th>\n",
       "      <th>vpuid</th>\n",
       "      <th>id</th>\n",
       "      <th>lengthkm</th>\n",
       "      <th>tot_drainage_areasqkm</th>\n",
       "      <th>has_flowline</th>\n",
       "      <th>geometry</th>\n",
       "    </tr>\n",
       "  </thead>\n",
       "  <tbody>\n",
       "    <tr>\n",
       "      <th>0</th>\n",
       "      <td>cat-5539</td>\n",
       "      <td>nex-5540</td>\n",
       "      <td>network</td>\n",
       "      <td>NaN</td>\n",
       "      <td>10.4985</td>\n",
       "      <td>01</td>\n",
       "      <td>wb-5539</td>\n",
       "      <td>6.449001</td>\n",
       "      <td>2247.957002</td>\n",
       "      <td>True</td>\n",
       "      <td>POLYGON ((2059095 2991255, 2059095 2990985, 20...</td>\n",
       "    </tr>\n",
       "  </tbody>\n",
       "</table>\n",
       "</div>"
      ],
      "text/plain": [
       "  divide_id      toid     type  ds_id  areasqkm vpuid       id  lengthkm  \\\n",
       "0  cat-5539  nex-5540  network    NaN   10.4985    01  wb-5539  6.449001   \n",
       "\n",
       "   tot_drainage_areasqkm  has_flowline  \\\n",
       "0            2247.957002          True   \n",
       "\n",
       "                                            geometry  \n",
       "0  POLYGON ((2059095 2991255, 2059095 2990985, 20...  "
      ]
     },
     "execution_count": 41,
     "metadata": {},
     "output_type": "execute_result"
    }
   ],
   "source": [
    "divides_df = tables['divides'].scan(\n",
    "    row_filter=\"divide_id == 'cat-5539'\",\n",
    ").to_pandas()\n",
    "divides_gdf = create_geodataframe(divides_df)\n",
    "divides_gdf"
   ]
  }
 ],
 "metadata": {
  "kernelspec": {
   "display_name": ".venv",
   "language": "python",
   "name": "python3"
  },
  "language_info": {
   "codemirror_mode": {
    "name": "ipython",
    "version": 3
   },
   "file_extension": ".py",
   "mimetype": "text/x-python",
   "name": "python",
   "nbconvert_exporter": "python",
   "pygments_lexer": "ipython3",
   "version": "3.13.2"
  }
 },
 "nbformat": 4,
 "nbformat_minor": 2
}
