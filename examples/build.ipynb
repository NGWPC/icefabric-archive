{
 "cells": [
  {
   "cell_type": "code",
   "execution_count": null,
   "metadata": {},
   "outputs": [],
   "source": [
    "from pathlib import Path\n",
    "from icefabric_manage import build, load_table_from_catalog\n",
    "from icefabric_tools import to_geopandas"
   ]
  },
  {
   "cell_type": "code",
   "execution_count": 4,
   "metadata": {},
   "outputs": [
    {
     "name": "stdout",
     "output_type": "stream",
     "text": [
      "Table network already exists, loading it\n",
      "Table nexus already exists, loading it\n",
      "Table flowpath-attributes already exists, loading it\n",
      "Table divides already exists, loading it\n",
      "Table pois already exists, loading it\n",
      "Table flowpath-attributes-ml already exists, loading it\n",
      "Table divide-attributes already exists, loading it\n",
      "Table flowpaths already exists, loading it\n",
      "Table hydrolocations already exists, loading it\n",
      "Table lakes already exists, loading it\n"
     ]
    }
   ],
   "source": [
    "warehouse_path = \"../data/warehouse\"\n",
    "catalog = build(\n",
    "    Path(\"/Users/taddbindas/projects/NGWPC/icefabric/data/parquet\"),\n",
    "    catalog_settings = {\n",
    "        'type': 'sql',\n",
    "        \"uri\": f\"sqlite:///{warehouse_path}/pyiceberg_catalog.db\",\n",
    "        \"warehouse\": f\"file://{warehouse_path}\",\n",
    "    },\n",
    ")"
   ]
  },
  {
   "cell_type": "code",
   "execution_count": 5,
   "metadata": {},
   "outputs": [
    {
     "ename": "AttributeError",
     "evalue": "'NoneType' object has no attribute 'load_table'",
     "output_type": "error",
     "traceback": [
      "\u001b[31m---------------------------------------------------------------------------\u001b[39m",
      "\u001b[31mAttributeError\u001b[39m                            Traceback (most recent call last)",
      "\u001b[36mCell\u001b[39m\u001b[36m \u001b[39m\u001b[32mIn[5]\u001b[39m\u001b[32m, line 1\u001b[39m\n\u001b[32m----> \u001b[39m\u001b[32m1\u001b[39m \u001b[43mload_table_from_catalog\u001b[49m\u001b[43m(\u001b[49m\u001b[43mcatalog\u001b[49m\u001b[43m,\u001b[49m\u001b[43m \u001b[49m\u001b[33;43m\"\u001b[39;49m\u001b[33;43mnetwork\u001b[39;49m\u001b[33;43m\"\u001b[39;49m\u001b[43m)\u001b[49m\n",
      "\u001b[36mFile \u001b[39m\u001b[32m~/projects/NGWPC/icefabric/src/icefabric_manage/src/icefabric_manage/_api.py:91\u001b[39m, in \u001b[36mload_table_from_catalog\u001b[39m\u001b[34m(catalog, identifier)\u001b[39m\n\u001b[32m     71\u001b[39m \u001b[38;5;28;01mdef\u001b[39;00m\u001b[38;5;250m \u001b[39m\u001b[34mload_table_from_catalog\u001b[39m(catalog: Catalog, identifier: \u001b[38;5;28mstr\u001b[39m) -> Table:\n\u001b[32m     72\u001b[39m \u001b[38;5;250m    \u001b[39m\u001b[33;03m\"\"\"_summary_\u001b[39;00m\n\u001b[32m     73\u001b[39m \n\u001b[32m     74\u001b[39m \u001b[33;03m    Parameters\u001b[39;00m\n\u001b[32m   (...)\u001b[39m\u001b[32m     89\u001b[39m \u001b[33;03m        The table does not exist in the catalog\u001b[39;00m\n\u001b[32m     90\u001b[39m \u001b[33;03m    \"\"\"\u001b[39;00m\n\u001b[32m---> \u001b[39m\u001b[32m91\u001b[39m     \u001b[38;5;28;01mtry\u001b[39;00m:\n\u001b[32m     92\u001b[39m         \u001b[38;5;28;01mreturn\u001b[39;00m catalog.load_table(identifier)\n\u001b[32m     93\u001b[39m     \u001b[38;5;28;01mexcept\u001b[39;00m NoSuchTableError \u001b[38;5;28;01mas\u001b[39;00m e:\n",
      "\u001b[31mAttributeError\u001b[39m: 'NoneType' object has no attribute 'load_table'"
     ]
    }
   ],
   "source": [
    "load_table_from_catalog(catalog, \"network\")"
   ]
  },
  {
   "cell_type": "code",
   "execution_count": null,
   "metadata": {},
   "outputs": [],
   "source": []
  }
 ],
 "metadata": {
  "kernelspec": {
   "display_name": ".venv",
   "language": "python",
   "name": "python3"
  },
  "language_info": {
   "codemirror_mode": {
    "name": "ipython",
    "version": 3
   },
   "file_extension": ".py",
   "mimetype": "text/x-python",
   "name": "python",
   "nbconvert_exporter": "python",
   "pygments_lexer": "ipython3",
   "version": "3.13.2"
  }
 },
 "nbformat": 4,
 "nbformat_minor": 2
}
