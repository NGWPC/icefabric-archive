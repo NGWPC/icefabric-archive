{
 "cells": [
  {
   "cell_type": "markdown",
   "metadata": {},
   "source": [
    "# LSTM support\n",
    "\n",
    "The following notebook contains a walkthrough of the support for the LSTM module\n",
    "\n",
    "The notebook is organized in the following sections:\n",
    "1. Icefabric API support\n",
    "2. Icefabric CLI support"
   ]
  },
  {
   "cell_type": "code",
   "execution_count": null,
   "metadata": {},
   "outputs": [],
   "source": [
    "# Running imports\n",
    "import json\n",
    "import os\n",
    "import threading\n",
    "import zipfile\n",
    "from pathlib import Path\n",
    "\n",
    "import httpx\n",
    "from pyprojroot import here\n",
    "\n",
    "#Change directory to project root\n",
    "os.chdir(here())\n",
    "print(f\"directory changed to {here()}\")\n"
   ]
  },
  {
   "cell_type": "code",
   "execution_count": null,
   "metadata": {},
   "outputs": [],
   "source": [
    "# Starting the API locally\n",
    "def run_api():\n",
    "    \"\"\"Starts the icefabric API locally\"\"\"\n",
    "    !python -m app.main --catalog sql\n",
    "\n",
    "\n",
    "threading.Thread(target=run_api).start()"
   ]
  },
  {
   "cell_type": "markdown",
   "metadata": {},
   "source": [
    "This will start the API on localhost:8000. This can be visited at: http://localhost:8000/docs \n",
    "\n",
    "![Icefabric API](../../docs/img/icefabric_api.png)"
   ]
  },
  {
   "cell_type": "markdown",
   "metadata": {},
   "source": [
    "To test the LSTM endpoint, we can use an example API call. This will return all config entries in JSON form. Each item in the output is the BMI Config contents for a specific catchment upstream of USGS 01010000"
   ]
  },
  {
   "cell_type": "code",
   "execution_count": null,
   "metadata": {},
   "outputs": [],
   "source": [
    "# Make the request\n",
    "response = httpx.get(\n",
    "    \"http://0.0.0.0:8000/v1/modules/lstm/\",\n",
    "    params={\n",
    "        \"identifier\": \"01010000\",  # the Gauge ID we're testing\n",
    "        \"domain\": \"conus_hf\",  # The CONUS domain\n",
    "        \"use_schaake\": \"false\",  # Specifying we're not using Schaake for the ice fraction setting\n",
    "    },\n",
    "    timeout=60.0,  # GLUE API requests can be slow depending on the network speed. Adding a 30s timeout to ensure requests go through\n",
    ")\n",
    "\n",
    "print(f\"Status code: {response.status_code}\")\n",
    "print(json.dumps(response.json(), indent=2))"
   ]
  },
  {
   "cell_type": "markdown",
   "metadata": {},
   "source": [
    "### CLI\n",
    "\n",
    "Now that we can return to the user all of the information / IPEs for a module, we can use the icefabric CLI to generate config files to disk for the user\n"
   ]
  },
  {
   "cell_type": "code",
   "execution_count": null,
   "metadata": {},
   "outputs": [],
   "source": [
    "Path(\"/tmp/lstm_output_test\").mkdir(exist_ok=True, parents=True)\n",
    "\n",
    "# Ensure the current working dir is where your `.pyiceberg.yaml` file is located\n",
    "!uv run icefabric params --gauge 01010000 --nwm-module lstm --domain conus_hf --catalog sql --output /tmp/lstm_output_test"
   ]
  },
  {
   "cell_type": "markdown",
   "metadata": {},
   "source": [
    "Now that these are created, let's view the contents"
   ]
  },
  {
   "cell_type": "code",
   "execution_count": null,
   "metadata": {},
   "outputs": [],
   "source": [
    "with zipfile.ZipFile(\"/tmp/lstm_output_test/configs.zip\", \"r\") as f:\n",
    "    print(\"Files in archive:\")\n",
    "    for file_info in f.filelist:\n",
    "        print(f\"  {file_info.filename} ({file_info.file_size} bytes)\")\n",
    "    f.extractall(\"/tmp/lstm_output_test/configs\")"
   ]
  },
  {
   "cell_type": "markdown",
   "metadata": {},
   "source": [
    "Let's view one of their contents"
   ]
  },
  {
   "cell_type": "code",
   "execution_count": null,
   "metadata": {},
   "outputs": [],
   "source": [
    "files = Path(\"/tmp/lstm_output_test/configs\").glob(\"*\")\n",
    "first_file = list(files)[0]\n",
    "content = first_file.read_text()\n",
    "print(content)"
   ]
  },
  {
   "cell_type": "markdown",
   "metadata": {},
   "source": [
    "We can also view the metadata.json file that was created. This will contain additional information about the query parameters used to make these configs"
   ]
  },
  {
   "cell_type": "code",
   "execution_count": null,
   "metadata": {},
   "outputs": [],
   "source": [
    "metadata = Path(\"/tmp/lstm_output_test/configs/metadata.json\")\n",
    "content = json.loads(metadata.read_text())\n",
    "\n",
    "print(content)"
   ]
  },
  {
   "cell_type": "markdown",
   "metadata": {},
   "source": [
    "Through either the API, or CLI, any modeler can create a BMI Config file for LSTM that is compatible with NextGen. Now, let's clean up the `/tmp/` dir"
   ]
  },
  {
   "cell_type": "code",
   "execution_count": null,
   "metadata": {},
   "outputs": [],
   "source": [
    "!rm -rf /tmp/lstm_output_test"
   ]
  },
  {
   "cell_type": "code",
   "execution_count": null,
   "metadata": {},
   "outputs": [],
   "source": []
  }
 ],
 "metadata": {
  "kernelspec": {
   "display_name": "Python 3 (ipykernel)",
   "language": "python",
   "name": "python3"
  },
  "language_info": {
   "codemirror_mode": {
    "name": "ipython",
    "version": 3
   },
   "file_extension": ".py",
   "mimetype": "text/x-python",
   "name": "python",
   "nbconvert_exporter": "python",
   "pygments_lexer": "ipython3",
   "version": "3.12.8"
  }
 },
 "nbformat": 4,
 "nbformat_minor": 4
}
