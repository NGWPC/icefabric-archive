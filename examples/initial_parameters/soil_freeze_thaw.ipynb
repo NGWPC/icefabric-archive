{
 "cells": [
  {
   "cell_type": "markdown",
   "metadata": {},
   "source": [
    "# Soil Freeze-Thaw support\n",
    "\n",
    "The following notebook contains a walkthrough of the support for the Soil Freeze-Thaw (SFT) module\n",
    "\n",
    "The notebook is organized in the following sections:\n",
    "1. Icefabric API support\n",
    "2. Icefabric CLI support"
   ]
  },
  {
   "cell_type": "code",
   "execution_count": null,
   "metadata": {},
   "outputs": [],
   "source": [
    "# Starting the API locally\n",
    "import os\n",
    "import threading\n",
    "from contextlib import contextmanager\n",
    "\n",
    "\n",
    "def run_api():\n",
    "    \"\"\"Starts the icefabric API locally\"\"\"\n",
    "\n",
    "    @contextmanager\n",
    "    def change_dir(destination: str):\n",
    "        \"\"\"Changes the directory to the project root\"\"\"\n",
    "        original_dir = os.getcwd()\n",
    "        try:\n",
    "            os.chdir(destination)\n",
    "            yield\n",
    "        finally:\n",
    "            os.chdir(original_dir)\n",
    "\n",
    "    # This preserves your original directory\n",
    "    with change_dir(\"../../\"):\n",
    "        print(f\"Running from: {os.getcwd()}\")\n",
    "        !python -m app.main --catalog sql\n",
    "\n",
    "\n",
    "threading.Thread(target=run_api).start()"
   ]
  },
  {
   "cell_type": "markdown",
   "metadata": {},
   "source": [
    "This will start the API on localhost:8000. This can be visited at: http://localhost:8000/docs \n",
    "\n",
    "![Icefabric API](../../docs/img/icefabric_api.png)"
   ]
  },
  {
   "cell_type": "markdown",
   "metadata": {},
   "source": [
    "To test the SFT endpoint, we can use an example API call. This will return all config entries in JSON form. Each item in the output is the BMI Config contents for a specific catchment upstream of USGS 01010000"
   ]
  },
  {
   "cell_type": "code",
   "execution_count": null,
   "metadata": {},
   "outputs": [],
   "source": [
    "import json\n",
    "\n",
    "import httpx\n",
    "\n",
    "# Make the request\n",
    "response = httpx.get(\n",
    "    \"http://0.0.0.0:8000/v2/modules/sft/\",\n",
    "    params={\n",
    "        \"identifier\": \"01010000\",  # the Gauge ID we're testing\n",
    "        \"domain\": \"conus_hf\",  # The CONUS domain\n",
    "        \"use_schaake\": \"false\",  # Specifying we're not using Schaake for the ice friction setting\n",
    "    },\n",
    ")\n",
    "\n",
    "print(f\"Status code: {response.status_code}\")\n",
    "print(json.dumps(response.json(), indent=2))"
   ]
  },
  {
   "cell_type": "markdown",
   "metadata": {},
   "source": [
    "### CLI\n",
    "\n",
    "Now that we can return to the user all of the information / IPEs for a module, we can use the icefabric CLI to generate config files to disk for the user\n"
   ]
  },
  {
   "cell_type": "code",
   "execution_count": null,
   "metadata": {},
   "outputs": [],
   "source": [
    "from pathlib import Path\n",
    "\n",
    "Path(\"/tmp/sft_output\").mkdir(exist_ok=True, parents=True)\n",
    "\n",
    "!uv run icefabric params --gauge 01010000 --module sft --domain conus --catalog sql --output \"/tmp/sft_output\""
   ]
  },
  {
   "cell_type": "markdown",
   "metadata": {},
   "source": [
    "Now that these are created, let's view the contents"
   ]
  },
  {
   "cell_type": "code",
   "execution_count": null,
   "metadata": {},
   "outputs": [],
   "source": [
    "import zipfile\n",
    "\n",
    "with zipfile.ZipFile(\"/tmp/sft_output/configs.zip\", \"r\") as f:\n",
    "    print(\"Files in archive:\")\n",
    "    for file_info in f.filelist:\n",
    "        print(f\"  {file_info.filename} ({file_info.file_size} bytes)\")\n",
    "    f.extractall(\"/tmp/sft_output/configs\")"
   ]
  },
  {
   "cell_type": "markdown",
   "metadata": {},
   "source": [
    "Let's view one of their contents"
   ]
  },
  {
   "cell_type": "code",
   "execution_count": null,
   "metadata": {},
   "outputs": [],
   "source": [
    "files = Path(\"/tmp/sft_output/configs\").glob(\"*\")\n",
    "first_file = list(files)[0]\n",
    "content = first_file.read_text()\n",
    "print(content)"
   ]
  },
  {
   "cell_type": "markdown",
   "metadata": {},
   "source": [
    "We can also view the metadata.json file that was created. This will contain additional information about the query parameters used to make these configs"
   ]
  },
  {
   "cell_type": "code",
   "execution_count": null,
   "metadata": {},
   "outputs": [],
   "source": [
    "metadata = Path(\"/tmp/sft_output/configs/metadata.json\")\n",
    "content = json.loads(metadata.read_text())\n",
    "\n",
    "print(content)"
   ]
  },
  {
   "cell_type": "markdown",
   "metadata": {},
   "source": [
    "Through either the API, or CLI, any modeler can create a BMI Config file for SFT that is compatible with NextGen"
   ]
  },
  {
   "cell_type": "markdown",
   "metadata": {},
   "source": []
  }
 ],
 "metadata": {
  "kernelspec": {
   "display_name": "icefabric",
   "language": "python",
   "name": "python3"
  },
  "language_info": {
   "codemirror_mode": {
    "name": "ipython",
    "version": 3
   },
   "file_extension": ".py",
   "mimetype": "text/x-python",
   "name": "python",
   "nbconvert_exporter": "python",
   "pygments_lexer": "ipython3",
   "version": "3.12.9"
  }
 },
 "nbformat": 4,
 "nbformat_minor": 2
}
