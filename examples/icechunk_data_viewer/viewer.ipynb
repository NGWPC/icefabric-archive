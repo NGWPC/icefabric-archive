{
 "cells": [
  {
   "cell_type": "code",
   "execution_count": null,
   "id": "a3120a17",
   "metadata": {},
   "outputs": [],
   "source": [
    "from jupytergis import GISDocument\n",
    "import matplotlib.pyplot as plt\n",
    "import matplotlib.image as mpimg"
   ]
  },
  {
   "cell_type": "code",
   "execution_count": null,
   "id": "7439900c",
   "metadata": {},
   "outputs": [],
   "source": [
    "# create the map doc\n",
    "doc = GISDocument()\n",
    "\n",
    "# open the map\n",
    "doc.sidecar()"
   ]
  },
  {
   "cell_type": "code",
   "execution_count": null,
   "id": "a05cbcdc",
   "metadata": {},
   "outputs": [],
   "source": [
    "doc.add_raster_layer(\"https://tile.openstreetmap.org/{z}/{x}/{y}.png\", name=\"Basemap\")"
   ]
  },
  {
   "cell_type": "code",
   "execution_count": null,
   "id": "09b6ae09",
   "metadata": {},
   "outputs": [],
   "source": [
    "doc.add_raster_layer(\"http://localhost:3000/pr_usvi/{z}/{x}/{y}\", name=\"Puerto Rico/VI\")\n",
    "doc.add_raster_layer(\"http://localhost:3000/alaska/{z}/{x}/{y}\", name=\"Alaska\")\n",
    "doc.add_raster_layer(\"http://localhost:3000/atlantic/{z}/{x}/{y}\", name=\"Atlantic/Gulf\")\n",
    "doc.add_raster_layer(\"http://localhost:3000/hawaii/{z}/{x}/{y}\", name=\"Hawaii\")\n",
    "doc.add_raster_layer(\"http://localhost:3000/pacific/{z}/{x}/{y}\", name=\"Pacific\")\n",
    "doc.add_raster_layer(\"http://localhost:3000/great_lakes/{z}/{x}/{y}\", name=\"Great Lakes\")"
   ]
  },
  {
   "cell_type": "code",
   "execution_count": null,
   "id": "dd6e4c55",
   "metadata": {},
   "outputs": [],
   "source": [
    "# show the legend\n",
    "image = mpimg.imread(\"./legend/legends.png\")\n",
    "fig, ax = plt.subplots(figsize=(25, 2))\n",
    "ax.imshow(image)\n",
    "ax.set_axis_off()"
   ]
  }
 ],
 "metadata": {
  "language_info": {
   "name": "python"
  }
 },
 "nbformat": 4,
 "nbformat_minor": 5
}
