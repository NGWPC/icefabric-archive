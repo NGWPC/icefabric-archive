{
 "cells": [
  {
   "cell_type": "markdown",
   "id": "9f3c3eb3",
   "metadata": {},
   "source": [
    "# Data Viewer: Topobathy\n",
    "\n",
    "## NOTE: This must viewed in Jupyter Lab\n",
    "\n",
    "A JupyterGIS project to interactively view topobathy and other spatial files. \n",
    "\n",
    "Maps are served as pmtiles to allow high performance loading and seamless transition. Maps are classified in quantiles - each color represents 10% of the dataset in its region. Legend can be viewed within notebook.\n",
    "\n",
    "The layer list can be viewed by clicking the bottom tab on left with \"globe\" symbol after layers are loaded.\n",
    "\n",
    "Opacity can be adjusted on the layers by clicking the right tab \"globe\" > layer properties > opacity > okay\n",
    "\n",
    "Requirements:\n",
    "- Pre-computed map tiles\n",
    "- Running local tile server \"Martin\" on port 3000"
   ]
  },
  {
   "cell_type": "code",
   "execution_count": null,
   "id": "a3120a17",
   "metadata": {},
   "outputs": [],
   "source": [
    "import matplotlib.image as mpimg\n",
    "import matplotlib.pyplot as plt\n",
    "from jupytergis import GISDocument"
   ]
  },
  {
   "cell_type": "code",
   "execution_count": null,
   "id": "7439900c",
   "metadata": {},
   "outputs": [],
   "source": [
    "# create the map doc\n",
    "doc = GISDocument()\n",
    "\n",
    "# open the map\n",
    "doc.sidecar()"
   ]
  },
  {
   "cell_type": "code",
   "execution_count": null,
   "id": "a05cbcdc",
   "metadata": {},
   "outputs": [],
   "source": [
    "# Add Open Street Map basemap\n",
    "doc.add_raster_layer(\"https://tile.openstreetmap.org/{z}/{x}/{y}.png\", name=\"Basemap\")"
   ]
  },
  {
   "cell_type": "code",
   "execution_count": null,
   "id": "09b6ae09",
   "metadata": {},
   "outputs": [],
   "source": [
    "# Add topobathy tile layers\n",
    "doc.add_raster_layer(\"http://localhost:3000/pr_usvi/{z}/{x}/{y}\", name=\"Puerto Rico/VI\")\n",
    "doc.add_raster_layer(\"http://localhost:3000/alaska/{z}/{x}/{y}\", name=\"Alaska\")\n",
    "doc.add_raster_layer(\"http://localhost:3000/atlantic/{z}/{x}/{y}\", name=\"Atlantic/Gulf\")\n",
    "doc.add_raster_layer(\"http://localhost:3000/hawaii/{z}/{x}/{y}\", name=\"Hawaii\")\n",
    "doc.add_raster_layer(\"http://localhost:3000/pacific/{z}/{x}/{y}\", name=\"Pacific\")\n",
    "doc.add_raster_layer(\"http://localhost:3000/great_lakes/{z}/{x}/{y}\", name=\"Great Lakes\")"
   ]
  },
  {
   "cell_type": "code",
   "execution_count": null,
   "id": "dd6e4c55",
   "metadata": {},
   "outputs": [],
   "source": [
    "# show the legend\n",
    "image = mpimg.imread(\"./martin/tiles/legend.png\")\n",
    "fig, ax = plt.subplots(figsize=(25, 8))\n",
    "ax.imshow(image)\n",
    "ax.set_axis_off()"
   ]
  },
  {
   "cell_type": "code",
   "execution_count": null,
   "id": "e67f5f73-6c5d-44ba-b8c9-6376307445f6",
   "metadata": {},
   "outputs": [],
   "source": []
  }
 ],
 "metadata": {
  "kernelspec": {
   "display_name": "Python 3 (ipykernel)",
   "language": "python",
   "name": "python3"
  },
  "language_info": {
   "codemirror_mode": {
    "name": "ipython",
    "version": 3
   },
   "file_extension": ".py",
   "mimetype": "text/x-python",
   "name": "python",
   "nbconvert_exporter": "python",
   "pygments_lexer": "ipython3",
   "version": "3.12.8"
  }
 },
 "nbformat": 4,
 "nbformat_minor": 5
}
