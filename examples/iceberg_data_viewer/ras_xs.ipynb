{
 "cells": [
  {
   "cell_type": "markdown",
   "id": "0",
   "metadata": {},
   "source": [
    "### RAS XS Geopackage Viewer\n",
    "\n",
    "An interactive viewer to show the versioned and cataloged HEC-RAS XS"
   ]
  },
  {
   "cell_type": "code",
   "execution_count": null,
   "id": "1",
   "metadata": {},
   "outputs": [],
   "source": [
    "import os\n",
    "from pathlib import Path\n",
    "\n",
    "from pyiceberg.catalog import load_catalog\n",
    "\n",
    "from icefabric.helpers import load_creds, load_pyiceberg_config, to_geopandas\n",
    "\n",
    "# Changes the current working dir to be the project root\n",
    "current_working_dir = Path.cwd()\n",
    "os.chdir(current_working_dir / \"../../\")\n",
    "print(\n",
    "    f\"Changed current working dir from {current_working_dir} to: {Path.cwd()}. This notebook must run at the project root\"\n",
    ")\n",
    "\n",
    "# dir is where the .env file is located\n",
    "load_creds(dir=Path.cwd())\n",
    "\n",
    "# Loading the local pyiceberg config settings\n",
    "pyiceberg_config = load_pyiceberg_config(Path.cwd())\n",
    "catalog = load_catalog(\n",
    "    name=\"sql\",\n",
    "    type=pyiceberg_config[\"catalog\"][\"sql\"][\"type\"],\n",
    "    uri=pyiceberg_config[\"catalog\"][\"sql\"][\"uri\"],\n",
    "    warehouse=pyiceberg_config[\"catalog\"][\"sql\"][\"warehouse\"],\n",
    ")"
   ]
  },
  {
   "cell_type": "markdown",
   "id": "2",
   "metadata": {},
   "source": [
    "Let's first load our tables that we'll be using and view the data schemas"
   ]
  },
  {
   "cell_type": "code",
   "execution_count": null,
   "id": "3",
   "metadata": {},
   "outputs": [],
   "source": [
    "catalog.load_table(\"ras_xs.conflated\")"
   ]
  },
  {
   "cell_type": "markdown",
   "id": "4",
   "metadata": {},
   "source": [
    "Let's load a sample BLE dataset: \"ble_05119_Pulaski\". First we'll scan the pyiceberg catalog for all conflated XS within the BLE area, then pull the reference divides and flowpaths "
   ]
  },
  {
   "cell_type": "code",
   "execution_count": null,
   "id": "5",
   "metadata": {},
   "outputs": [],
   "source": [
    "from pyiceberg.expressions import EqualTo, In\n",
    "\n",
    "gdf = to_geopandas(\n",
    "    catalog.load_table(\"ras_xs.conflated\")\n",
    "    .scan(row_filter=EqualTo(\"domain\", \"/ble_05119_Pulaski\"))\n",
    "    .to_pandas()\n",
    ")\n",
    "gdf.head()"
   ]
  },
  {
   "cell_type": "code",
   "execution_count": null,
   "id": "6",
   "metadata": {},
   "outputs": [],
   "source": [
    "reference_divides = to_geopandas(\n",
    "    catalog.load_table(\"conus_reference.reference_divides\")\n",
    "    .scan(row_filter=In(\"flowpath_id\", gdf[\"flowpath_id\"]))\n",
    "    .to_pandas()\n",
    ")\n",
    "reference_flowpaths = to_geopandas(\n",
    "    catalog.load_table(\"conus_reference.reference_flowpaths\")\n",
    "    .scan(row_filter=In(\"flowpath_id\", gdf[\"flowpath_id\"]))\n",
    "    .to_pandas()\n",
    ")"
   ]
  },
  {
   "cell_type": "code",
   "execution_count": null,
   "id": "7",
   "metadata": {},
   "outputs": [],
   "source": [
    "reference_divides = reference_divides.to_crs(epsg=3857)\n",
    "\n",
    "reference_flowpaths = reference_flowpaths.to_crs(epsg=3857)\n",
    "gdf = gdf.to_crs(epsg=3857)\n",
    "\n",
    "ref_div_ex = reference_divides.explore(color=\"grey\")\n",
    "ref_flo_ex = reference_flowpaths.explore(m=ref_div_ex, color=\"blue\")\n",
    "gdf.explore(m=ref_flo_ex, color=\"black\")"
   ]
  },
  {
   "cell_type": "markdown",
   "id": "8",
   "metadata": {},
   "source": [
    "Now, we'll see how the representative XS look on this same data"
   ]
  },
  {
   "cell_type": "code",
   "execution_count": null,
   "id": "9",
   "metadata": {},
   "outputs": [],
   "source": [
    "gdf_rep = to_geopandas(\n",
    "    catalog.load_table(\"ras_xs.representative\")\n",
    "    .scan(row_filter=In(\"flowpath_id\", gdf[\"flowpath_id\"]))\n",
    "    .to_pandas()\n",
    ")\n",
    "\n",
    "ref_div_ex = reference_divides.explore(color=\"grey\")\n",
    "ref_flo_ex = reference_flowpaths.explore(m=ref_div_ex, color=\"blue\")\n",
    "gdf_rep.explore(m=ref_flo_ex, color=\"red\")"
   ]
  },
  {
   "cell_type": "markdown",
   "id": "10",
   "metadata": {},
   "source": [
    "Let's now do the same work, but with a different area: \"mip_18010110\""
   ]
  },
  {
   "cell_type": "code",
   "execution_count": null,
   "id": "11",
   "metadata": {},
   "outputs": [],
   "source": [
    "gdf_mip = to_geopandas(\n",
    "    catalog.load_table(\"ras_xs.conflated\").scan(row_filter=EqualTo(\"domain\", \"/mip_18010110\")).to_pandas()\n",
    ")\n",
    "gdf_mip.head()"
   ]
  },
  {
   "cell_type": "code",
   "execution_count": null,
   "id": "12",
   "metadata": {},
   "outputs": [],
   "source": [
    "reference_divides_mip = to_geopandas(\n",
    "    catalog.load_table(\"conus_reference.reference_divides\")\n",
    "    .scan(row_filter=In(\"flowpath_id\", gdf_mip[\"flowpath_id\"]))\n",
    "    .to_pandas()\n",
    ")\n",
    "reference_flowpaths_mip = to_geopandas(\n",
    "    catalog.load_table(\"conus_reference.reference_flowpaths\")\n",
    "    .scan(row_filter=In(\"flowpath_id\", gdf_mip[\"flowpath_id\"]))\n",
    "    .to_pandas()\n",
    ")\n",
    "reference_divides_mip = reference_divides_mip.to_crs(epsg=3857)\n",
    "reference_flowpaths_mip = reference_flowpaths_mip.to_crs(epsg=3857)\n",
    "gdf_mip = gdf_mip.to_crs(epsg=3857)\n",
    "\n",
    "ref_div_ex_mip = reference_divides_mip.explore(color=\"grey\")\n",
    "ref_flo_ex_mip = reference_flowpaths_mip.explore(m=ref_div_ex_mip, color=\"blue\")\n",
    "gdf_mip.explore(m=ref_flo_ex_mip, color=\"black\")"
   ]
  },
  {
   "cell_type": "markdown",
   "id": "13",
   "metadata": {},
   "source": [
    "Let's see how the representative XS look"
   ]
  },
  {
   "cell_type": "code",
   "execution_count": null,
   "id": "14",
   "metadata": {},
   "outputs": [],
   "source": [
    "gdf_rep_mip = to_geopandas(\n",
    "    catalog.load_table(\"ras_xs.representative\")\n",
    "    .scan(row_filter=In(\"flowpath_id\", gdf_mip[\"flowpath_id\"]))\n",
    "    .to_pandas()\n",
    ")\n",
    "\n",
    "ref_div_ex_mip = reference_divides_mip.explore(color=\"grey\")\n",
    "ref_flo_ex_mip = reference_flowpaths_mip.explore(m=ref_div_ex_mip, color=\"blue\")\n",
    "gdf_rep_mip.explore(m=ref_flo_ex_mip, color=\"red\")"
   ]
  }
 ],
 "metadata": {
  "kernelspec": {
   "display_name": "icefabric",
   "language": "python",
   "name": "python3"
  },
  "language_info": {
   "codemirror_mode": {
    "name": "ipython",
    "version": 3
   },
   "file_extension": ".py",
   "mimetype": "text/x-python",
   "name": "python",
   "nbconvert_exporter": "python",
   "pygments_lexer": "ipython3",
   "version": "3.13.2"
  }
 },
 "nbformat": 4,
 "nbformat_minor": 5
}
